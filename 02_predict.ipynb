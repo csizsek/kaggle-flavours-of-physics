{
 "cells": [
  {
   "cell_type": "code",
   "execution_count": null,
   "metadata": {
    "collapsed": false
   },
   "outputs": [],
   "source": [
    "import numpy as np\n",
    "import pandas as pd\n",
    "from pandas import DataFrame, Series\n",
    "from matplotlib import pyplot as plt\n",
    "from sklearn.ensemble import RandomForestClassifier\n",
    "from sklearn.svm import  SVC, NuSVC, LinearSVC\n",
    "from sklearn.neighbors import KNeighborsClassifier, RadiusNeighborsClassifier\n",
    "import yandex_evaluation as evaluation\n",
    "import xgboost as xgb\n",
    "%pylab inline"
   ]
  },
  {
   "cell_type": "code",
   "execution_count": null,
   "metadata": {
    "collapsed": true
   },
   "outputs": [],
   "source": [
    "tr = pd.read_csv('input/training.csv', index_col='id')\n",
    "variables = tr.columns[:-4]"
   ]
  },
  {
   "cell_type": "code",
   "execution_count": 71,
   "metadata": {
    "collapsed": false
   },
   "outputs": [
    {
     "name": "stdout",
     "output_type": "stream",
     "text": [
      "KS metric 0.0889257931193 True\n"
     ]
    }
   ],
   "source": [
    "m = xgb.XGBClassifier(\n",
    "    learning_rate=0.0065,\n",
    "    max_depth=7,\n",
    "    n_estimators=500,\n",
    "    nthread=4,\n",
    "    min_child_weight=10,\n",
    "    gamma=0.01,\n",
    "    colsample_bytree=0.1)\n",
    "m.fit(tr[variables], tr.signal)\n",
    "check_agreement = pd.read_csv('input/check_agreement.csv', index_col='id')\n",
    "agreement_probs = m.predict_proba(check_agreement[variables])[:, 1]\n",
    "ks = evaluation.compute_ks(\n",
    "    agreement_probs[check_agreement['signal'].values == 0],\n",
    "    agreement_probs[check_agreement['signal'].values == 1],\n",
    "    check_agreement[check_agreement['signal'] == 0]['weight'].values,\n",
    "    check_agreement[check_agreement['signal'] == 1]['weight'].values)\n",
    "print 'KS metric', ks, ks < 0.09"
   ]
  },
  {
   "cell_type": "code",
   "execution_count": 72,
   "metadata": {
    "collapsed": false
   },
   "outputs": [
    {
     "name": "stdout",
     "output_type": "stream",
     "text": [
      "CvM metric 0.000902710593782 True\n",
      "AUC 0.986000124211\n"
     ]
    }
   ],
   "source": [
    "check_correlation = pd.read_csv('input/check_correlation.csv', index_col='id')\n",
    "correlation_probs = m.predict_proba(check_correlation[variables])[:, 1]\n",
    "cvm = evaluation.compute_cvm(correlation_probs, check_correlation['mass'])\n",
    "print 'CvM metric', cvm, cvm < 0.002\n",
    "tr_eval = tr[tr['min_ANNmuon'] > 0.4]\n",
    "tr_probs = m.predict_proba(tr_eval[variables])[:, 1]\n",
    "AUC = evaluation.roc_auc_truncated(tr_eval['signal'], tr_probs)\n",
    "print 'AUC', AUC\n",
    "test = pd.read_csv('input/test.csv', index_col='id')\n",
    "result = pd.DataFrame({'id': test.index})\n",
    "result['prediction'] = m.predict_proba(test[variables])[:, 1]\n",
    "result.to_csv('output/submission_004.csv', index=False, sep=',')"
   ]
  }
 ],
 "metadata": {
  "kernelspec": {
   "display_name": "Python 2",
   "language": "python",
   "name": "python2"
  },
  "language_info": {
   "codemirror_mode": {
    "name": "ipython",
    "version": 2
   },
   "file_extension": ".py",
   "mimetype": "text/x-python",
   "name": "python",
   "nbconvert_exporter": "python",
   "pygments_lexer": "ipython2",
   "version": "2.7.10"
  }
 },
 "nbformat": 4,
 "nbformat_minor": 0
}
