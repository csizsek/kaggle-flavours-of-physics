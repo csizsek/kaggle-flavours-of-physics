{
 "cells": [
  {
   "cell_type": "code",
   "execution_count": 7,
   "metadata": {
    "collapsed": false
   },
   "outputs": [
    {
     "name": "stdout",
     "output_type": "stream",
     "text": [
      "Populating the interactive namespace from numpy and matplotlib\n"
     ]
    }
   ],
   "source": [
    "import numpy as np\n",
    "import pandas as pd\n",
    "from pandas import DataFrame, Series\n",
    "from matplotlib import pyplot as plt\n",
    "from sklearn import cross_validation\n",
    "from sklearn.metrics import roc_auc_score\n",
    "import xgboost as xgb\n",
    "from sklearn import grid_search\n",
    "import yandex_evaluation as evaluation\n",
    "%pylab inline"
   ]
  },
  {
   "cell_type": "code",
   "execution_count": 8,
   "metadata": {
    "collapsed": false
   },
   "outputs": [],
   "source": [
    "t = pd.read_csv(\"input/training.csv\")"
   ]
  },
  {
   "cell_type": "code",
   "execution_count": 10,
   "metadata": {
    "collapsed": false
   },
   "outputs": [],
   "source": [
    "#t.info()"
   ]
  },
  {
   "cell_type": "code",
   "execution_count": 11,
   "metadata": {
    "collapsed": false
   },
   "outputs": [
    {
     "data": {
      "text/plain": [
       "Index([u'id', u'LifeTime', u'dira', u'FlightDistance', u'FlightDistanceError',\n",
       "       u'IP', u'IPSig', u'VertexChi2', u'pt', u'DOCAone', u'DOCAtwo',\n",
       "       u'DOCAthree', u'IP_p0p2', u'IP_p1p2', u'isolationa', u'isolationb',\n",
       "       u'isolationc', u'isolationd', u'isolatione', u'isolationf', u'iso',\n",
       "       u'CDF1', u'CDF2', u'CDF3', u'ISO_SumBDT', u'p0_IsoBDT', u'p1_IsoBDT',\n",
       "       u'p2_IsoBDT', u'p0_track_Chi2Dof', u'p1_track_Chi2Dof',\n",
       "       u'p2_track_Chi2Dof', u'p0_IP', u'p1_IP', u'p2_IP', u'p0_IPSig',\n",
       "       u'p1_IPSig', u'p2_IPSig', u'p0_pt', u'p1_pt', u'p2_pt', u'p0_p',\n",
       "       u'p1_p', u'p2_p', u'p0_eta', u'p1_eta', u'p2_eta', u'SPDhits'],\n",
       "      dtype='object')"
      ]
     },
     "execution_count": 11,
     "metadata": {},
     "output_type": "execute_result"
    }
   ],
   "source": [
    "variables = t.columns[:-4]\n",
    "variables"
   ]
  },
  {
   "cell_type": "code",
   "execution_count": 12,
   "metadata": {
    "collapsed": false
   },
   "outputs": [
    {
     "data": {
      "text/plain": [
       "67553"
      ]
     },
     "execution_count": 12,
     "metadata": {},
     "output_type": "execute_result"
    }
   ],
   "source": [
    "len(t)"
   ]
  },
  {
   "cell_type": "code",
   "execution_count": 13,
   "metadata": {
    "collapsed": true
   },
   "outputs": [],
   "source": [
    "ts = t.sample(10000)"
   ]
  },
  {
   "cell_type": "code",
   "execution_count": 14,
   "metadata": {
    "collapsed": true
   },
   "outputs": [],
   "source": [
    "tsl = ts.signal"
   ]
  },
  {
   "cell_type": "code",
   "execution_count": 15,
   "metadata": {
    "collapsed": true
   },
   "outputs": [],
   "source": [
    "ts = ts[variables]"
   ]
  },
  {
   "cell_type": "code",
   "execution_count": 16,
   "metadata": {
    "collapsed": true
   },
   "outputs": [],
   "source": [
    "parameters = {\n",
    "    'max_depth':[5, 10, 20],\n",
    "    'n_estimators':[100, 300, 500],\n",
    "    'learning_rate': [0.1, 0.05, 0.01],\n",
    "    'nthread': [4]}"
   ]
  },
  {
   "cell_type": "code",
   "execution_count": 17,
   "metadata": {
    "collapsed": false
   },
   "outputs": [
    {
     "data": {
      "text/plain": [
       "{'learning_rate': 0.1, 'max_depth': 10, 'n_estimators': 500, 'nthread': 4}"
      ]
     },
     "execution_count": 17,
     "metadata": {},
     "output_type": "execute_result"
    }
   ],
   "source": [
    "m = xgb.XGBClassifier()\n",
    "gsm = grid_search.GridSearchCV(m, parameters, scoring='roc_auc')\n",
    "fm = gsm.fit(ts, tsl)\n",
    "fm.best_params_"
   ]
  },
  {
   "cell_type": "code",
   "execution_count": 18,
   "metadata": {
    "collapsed": true
   },
   "outputs": [],
   "source": [
    "parameters = {\n",
    "    'max_depth':[8, 10, 13],\n",
    "    'n_estimators':[400, 500, 600],\n",
    "    'learning_rate': [0.15, 0.1, 0.08],\n",
    "    'nthread': [4]}"
   ]
  },
  {
   "cell_type": "code",
   "execution_count": 19,
   "metadata": {
    "collapsed": false
   },
   "outputs": [
    {
     "data": {
      "text/plain": [
       "{'learning_rate': 0.1, 'max_depth': 8, 'n_estimators': 600, 'nthread': 4}"
      ]
     },
     "execution_count": 19,
     "metadata": {},
     "output_type": "execute_result"
    }
   ],
   "source": [
    "m = xgb.XGBClassifier()\n",
    "gsm = grid_search.GridSearchCV(m, parameters, scoring='roc_auc')\n",
    "fm = gsm.fit(ts, tsl)\n",
    "fm.best_params_"
   ]
  },
  {
   "cell_type": "code",
   "execution_count": 20,
   "metadata": {
    "collapsed": false
   },
   "outputs": [
    {
     "data": {
      "text/plain": [
       "{'gamma': 0.01,\n",
       " 'learning_rate': 0.1,\n",
       " 'max_depth': 8,\n",
       " 'min_child_weight': 4,\n",
       " 'n_estimators': 600,\n",
       " 'nthread': 4}"
      ]
     },
     "execution_count": 20,
     "metadata": {},
     "output_type": "execute_result"
    }
   ],
   "source": [
    "parameters = {\n",
    "    'max_depth':[8],\n",
    "    'n_estimators':[600],\n",
    "    'learning_rate': [0.1],\n",
    "    'nthread': [4],\n",
    "    'gamma': [0, 0.01, 0.1,],\n",
    "    'min_child_weight': [1, 2, 4]}\n",
    "m = xgb.XGBClassifier()\n",
    "gsm = grid_search.GridSearchCV(m, parameters, scoring='roc_auc')\n",
    "fm = gsm.fit(ts, tsl)\n",
    "fm.best_params_"
   ]
  },
  {
   "cell_type": "code",
   "execution_count": 21,
   "metadata": {
    "collapsed": false
   },
   "outputs": [
    {
     "data": {
      "text/plain": [
       "{'gamma': 0.005,\n",
       " 'learning_rate': 0.1,\n",
       " 'max_depth': 8,\n",
       " 'min_child_weight': 5,\n",
       " 'n_estimators': 600,\n",
       " 'nthread': 4}"
      ]
     },
     "execution_count": 21,
     "metadata": {},
     "output_type": "execute_result"
    }
   ],
   "source": [
    "parameters = {\n",
    "    'max_depth':[8],\n",
    "    'n_estimators':[600],\n",
    "    'learning_rate': [0.1],\n",
    "    'nthread': [4],\n",
    "    'gamma': [0.005, 0.01, 0.02,],\n",
    "    'min_child_weight': [3, 4, 5]}\n",
    "m = xgb.XGBClassifier()\n",
    "gsm = grid_search.GridSearchCV(m, parameters, scoring='roc_auc')\n",
    "fm = gsm.fit(ts, tsl)\n",
    "fm.best_params_"
   ]
  },
  {
   "cell_type": "code",
   "execution_count": 22,
   "metadata": {
    "collapsed": false
   },
   "outputs": [
    {
     "data": {
      "text/plain": [
       "{'gamma': 0.005,\n",
       " 'learning_rate': 0.1,\n",
       " 'max_depth': 8,\n",
       " 'min_child_weight': 5,\n",
       " 'n_estimators': 600,\n",
       " 'nthread': 4}"
      ]
     },
     "execution_count": 22,
     "metadata": {},
     "output_type": "execute_result"
    }
   ],
   "source": [
    "parameters = {\n",
    "    'max_depth':[8],\n",
    "    'n_estimators':[600],\n",
    "    'learning_rate': [0.1],\n",
    "    'nthread': [4],\n",
    "    'gamma': [0.002, 0.005, 0.007,],\n",
    "    'min_child_weight': [5, 7, 10]}\n",
    "m = xgb.XGBClassifier()\n",
    "gsm = grid_search.GridSearchCV(m, parameters, scoring='roc_auc')\n",
    "fm = gsm.fit(ts, tsl)\n",
    "fm.best_params_"
   ]
  },
  {
   "cell_type": "code",
   "execution_count": null,
   "metadata": {
    "collapsed": true
   },
   "outputs": [],
   "source": []
  }
 ],
 "metadata": {
  "kernelspec": {
   "display_name": "Python 2",
   "language": "python",
   "name": "python2"
  },
  "language_info": {
   "codemirror_mode": {
    "name": "ipython",
    "version": 2
   },
   "file_extension": ".py",
   "mimetype": "text/x-python",
   "name": "python",
   "nbconvert_exporter": "python",
   "pygments_lexer": "ipython2",
   "version": "2.7.10"
  }
 },
 "nbformat": 4,
 "nbformat_minor": 0
}
